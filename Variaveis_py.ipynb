{
  "nbformat": 4,
  "nbformat_minor": 0,
  "metadata": {
    "colab": {
      "name": "Variaveis.py",
      "provenance": [],
      "collapsed_sections": [],
      "authorship_tag": "ABX9TyPx/liFPxcZ2mesqnkWTsp9",
      "include_colab_link": true
    },
    "kernelspec": {
      "name": "python3",
      "display_name": "Python 3"
    }
  },
  "cells": [
    {
      "cell_type": "markdown",
      "metadata": {
        "id": "view-in-github",
        "colab_type": "text"
      },
      "source": [
        "<a href=\"https://colab.research.google.com/github/mathiasvinicius/Python/blob/main/Variaveis_py.ipynb\" target=\"_parent\"><img src=\"https://colab.research.google.com/assets/colab-badge.svg\" alt=\"Open In Colab\"/></a>"
      ]
    },
    {
      "cell_type": "markdown",
      "metadata": {
        "id": "6HDhCAaW2Fky"
      },
      "source": [
        "Strings e Char"
      ]
    },
    {
      "cell_type": "code",
      "metadata": {
        "colab": {
          "base_uri": "https://localhost:8080/"
        },
        "id": "T1FBIXer2OIs",
        "outputId": "3926953e-0d10-43f7-d66d-88694924670f"
      },
      "source": [
        "char='A'\n",
        "String='Ola Mundo'\n",
        "print (char, String)"
      ],
      "execution_count": 1,
      "outputs": [
        {
          "output_type": "stream",
          "text": [
            "A Ola Mundo\n"
          ],
          "name": "stdout"
        }
      ]
    },
    {
      "cell_type": "markdown",
      "metadata": {
        "id": "fRxQbzgc2gct"
      },
      "source": [
        "Numbers e Floats"
      ]
    },
    {
      "cell_type": "code",
      "metadata": {
        "colab": {
          "base_uri": "https://localhost:8080/"
        },
        "id": "gEKb94r62lQX",
        "outputId": "f45a94ef-f885-4063-d4a9-f1ae83f9559c"
      },
      "source": [
        "num=10\n",
        "flo=3.14\n",
        "print('Numero',num,'Float:',flo)"
      ],
      "execution_count": 5,
      "outputs": [
        {
          "output_type": "stream",
          "text": [
            "Numero 10 Float: 3.14\n"
          ],
          "name": "stdout"
        }
      ]
    }
  ]
}